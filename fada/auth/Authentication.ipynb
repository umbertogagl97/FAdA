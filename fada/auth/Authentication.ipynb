{
  "nbformat": 4,
  "nbformat_minor": 0,
  "metadata": {
    "colab": {
      "name": "Authentication.ipynb",
      "provenance": [],
      "authorship_tag": "ABX9TyNuXcFOoKXI46S8AOvFMOI1",
      "include_colab_link": true
    },
    "kernelspec": {
      "name": "python3",
      "display_name": "Python 3"
    },
    "language_info": {
      "name": "python"
    }
  },
  "cells": [
    {
      "cell_type": "markdown",
      "metadata": {
        "id": "view-in-github",
        "colab_type": "text"
      },
      "source": [
        "<a href=\"https://colab.research.google.com/github/umbertogagl97/FAdA/blob/main/fada/auth/Authentication.ipynb\" target=\"_parent\"><img src=\"https://colab.research.google.com/assets/colab-badge.svg\" alt=\"Open In Colab\"/></a>"
      ]
    },
    {
      "cell_type": "markdown",
      "source": [
        "#**Help**\n",
        "\n",
        "\n",
        "> link to download mindtct & bozorth compiled for colab machine:\n",
        "https://drive.google.com/drive/folders/1qj4gdWsBTRbN4I1I-cXfmVY08fTcIF5_?usp=sharing\n",
        "\n",
        "> Load tools in colab files\n",
        "\n",
        "\n",
        "\n"
      ],
      "metadata": {
        "id": "itvnVNB0Dc27"
      }
    },
    {
      "cell_type": "markdown",
      "source": [
        "#**Auth**"
      ],
      "metadata": {
        "id": "jkw5wVS8NRJ8"
      }
    },
    {
      "cell_type": "code",
      "source": [
        "!chmod 777 bozorth3\n",
        "!chmod 777 mindtct"
      ],
      "metadata": {
        "id": "Nf2x-MWiNI2W"
      },
      "execution_count": 2,
      "outputs": []
    },
    {
      "cell_type": "markdown",
      "source": [
        "##example with 2 images: original and perturbated"
      ],
      "metadata": {
        "id": "fWjSxU3ZEhU3"
      }
    },
    {
      "cell_type": "code",
      "source": [
        "!mkdir features\n",
        "!mkdir tmp"
      ],
      "metadata": {
        "id": "vA6DITeqKsjN"
      },
      "execution_count": null,
      "outputs": []
    },
    {
      "cell_type": "markdown",
      "source": [
        "read images as grayscale"
      ],
      "metadata": {
        "id": "fVw8OKwTFOts"
      }
    },
    {
      "cell_type": "code",
      "source": [
        "import cv2\n",
        "orig=cv2.imread('fingerprint_orig.png',0)\n",
        "pert=cv2.imread('fingerprint_pert.png',0)\n",
        "cv2.imwrite('tmp/orig.png',orig)\n",
        "cv2.imwrite('tmp/pert.png',pert)"
      ],
      "metadata": {
        "id": "LKKylk-FJtAd",
        "colab": {
          "base_uri": "https://localhost:8080/"
        },
        "outputId": "63b8e432-4f23-4048-f971-c13429eca5dd"
      },
      "execution_count": 37,
      "outputs": [
        {
          "output_type": "execute_result",
          "data": {
            "text/plain": [
              "True"
            ]
          },
          "metadata": {},
          "execution_count": 37
        }
      ]
    },
    {
      "cell_type": "markdown",
      "source": [
        "mindtct"
      ],
      "metadata": {
        "id": "icmzaymaNrOO"
      }
    },
    {
      "cell_type": "code",
      "source": [
        "!./mindtct tmp/orig.png features/fingerprint_orig\n",
        "!./mindtct tmp/pert.png features/fingerprint_pert"
      ],
      "metadata": {
        "id": "qvZIBAhqFZrY"
      },
      "execution_count": 38,
      "outputs": []
    },
    {
      "cell_type": "markdown",
      "source": [
        "bozorth"
      ],
      "metadata": {
        "id": "N8fDmEhhNsp7"
      }
    },
    {
      "cell_type": "code",
      "source": [
        "x=!./bozorth3 features/fingerprint_orig.xyt features/fingerprint_pert.xyt\n",
        "y=!./bozorth3 features/fingerprint_orig.xyt features/fingerprint_orig.xyt"
      ],
      "metadata": {
        "id": "XVGl_Qx6LQ50"
      },
      "execution_count": 39,
      "outputs": []
    },
    {
      "cell_type": "code",
      "source": [
        "!rm -rf tmp\n",
        "!rm -rf features"
      ],
      "metadata": {
        "id": "MbOIN73HNgqP"
      },
      "execution_count": 40,
      "outputs": []
    },
    {
      "cell_type": "code",
      "source": [
        "x=int(x[0])\n",
        "y=int(y[0])\n",
        "print(x,y)"
      ],
      "metadata": {
        "colab": {
          "base_uri": "https://localhost:8080/"
        },
        "id": "8iSqhviwM6Dq",
        "outputId": "91435d78-e0c5-429b-c578-3889d8b7de5a"
      },
      "execution_count": 41,
      "outputs": [
        {
          "output_type": "stream",
          "name": "stdout",
          "text": [
            "96 504\n"
          ]
        }
      ]
    },
    {
      "cell_type": "code",
      "source": [
        "if x>40: print(\"same fingerprint\")"
      ],
      "metadata": {
        "colab": {
          "base_uri": "https://localhost:8080/"
        },
        "id": "_6rgZb2JM_Ak",
        "outputId": "9a7b3cf6-9a7d-4666-81ac-e6601525c36e"
      },
      "execution_count": 42,
      "outputs": [
        {
          "output_type": "stream",
          "name": "stdout",
          "text": [
            "same fingerprint\n"
          ]
        }
      ]
    }
  ]
}