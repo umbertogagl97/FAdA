{
  "nbformat": 4,
  "nbformat_minor": 0,
  "metadata": {
    "colab": {
      "name": "Attacco_scanner.ipynb",
      "provenance": [],
      "collapsed_sections": [
        "lcoLiAGAtqBh",
        "OHENSlCXxzcr",
        "nGmEBN4oxqUO",
        "pIqUXUmoA541",
        "-ycpjmyb4Cxe",
        "dherpFOH0Uau",
        "5X10jetEyAax",
        "fETy1V2abbWo",
        "VeQuyOYGbbWp",
        "_miDmRukbbWq",
        "I5sK56TG2eT9",
        "9XepXK-ny3XN",
        "PBSyijWDqY4-",
        "O_c2L3v0r2xG",
        "VRhT4XM1sVm-",
        "MAU1QYvhrGVs",
        "aVwvG_5SKo7x",
        "xRRSYT01GRfB",
        "P3kr1yAn2UBl",
        "-56wdwb5TLHl",
        "QCO-pkW9GXc0",
        "kJ6xDO5GGZY5",
        "y71Fo3alJY0s",
        "nkdhgkab0e-B",
        "O2z5CDqCOjhi",
        "iTIkMx6Evczx",
        "liAmXvKByROm",
        "OzZkC7HimlHT",
        "Suibji7V0I7j",
        "Fq6B6unj2HcX",
        "cYPmQSaL2Oxa",
        "8w98YNCQGJGq",
        "ZFKEoI-enb8L",
        "g_sQeKbZfK74",
        "nLcnge6A0Npi",
        "lqk0NmxqjXkm",
        "Rn8n_-yejatQ"
      ],
      "machine_shape": "hm",
      "include_colab_link": true
    },
    "kernelspec": {
      "name": "python3",
      "display_name": "Python 3"
    },
    "language_info": {
      "name": "python"
    },
    "accelerator": "GPU",
    "widgets": {
      "application/vnd.jupyter.widget-state+json": {
        "5bec0dab70a5475a825f0b9a7d56ac9b": {
          "model_module": "@jupyter-widgets/controls",
          "model_name": "HBoxModel",
          "model_module_version": "1.5.0",
          "state": {
            "_view_name": "HBoxView",
            "_dom_classes": [],
            "_model_name": "HBoxModel",
            "_view_module": "@jupyter-widgets/controls",
            "_model_module_version": "1.5.0",
            "_view_count": null,
            "_view_module_version": "1.5.0",
            "box_style": "",
            "layout": "IPY_MODEL_9ddef2133a8a4b5babb512daab252456",
            "_model_module": "@jupyter-widgets/controls",
            "children": [
              "IPY_MODEL_2c049383acd844ff96b82dd1bfc8711a",
              "IPY_MODEL_311fb93d0cc64526a6aae8f6137a3ac8",
              "IPY_MODEL_42813db37e2e4da7b4ce1c43bd8ac2c0"
            ]
          }
        },
        "9ddef2133a8a4b5babb512daab252456": {
          "model_module": "@jupyter-widgets/base",
          "model_name": "LayoutModel",
          "model_module_version": "1.2.0",
          "state": {
            "_view_name": "LayoutView",
            "grid_template_rows": null,
            "right": null,
            "justify_content": null,
            "_view_module": "@jupyter-widgets/base",
            "overflow": null,
            "_model_module_version": "1.2.0",
            "_view_count": null,
            "flex_flow": null,
            "width": null,
            "min_width": null,
            "border": null,
            "align_items": null,
            "bottom": null,
            "_model_module": "@jupyter-widgets/base",
            "top": null,
            "grid_column": null,
            "overflow_y": null,
            "overflow_x": null,
            "grid_auto_flow": null,
            "grid_area": null,
            "grid_template_columns": null,
            "flex": null,
            "_model_name": "LayoutModel",
            "justify_items": null,
            "grid_row": null,
            "max_height": null,
            "align_content": null,
            "visibility": null,
            "align_self": null,
            "height": null,
            "min_height": null,
            "padding": null,
            "grid_auto_rows": null,
            "grid_gap": null,
            "max_width": null,
            "order": null,
            "_view_module_version": "1.2.0",
            "grid_template_areas": null,
            "object_position": null,
            "object_fit": null,
            "grid_auto_columns": null,
            "margin": null,
            "display": null,
            "left": null
          }
        },
        "2c049383acd844ff96b82dd1bfc8711a": {
          "model_module": "@jupyter-widgets/controls",
          "model_name": "HTMLModel",
          "model_module_version": "1.5.0",
          "state": {
            "_view_name": "HTMLView",
            "style": "IPY_MODEL_307974e19bd94670829c7135358673b3",
            "_dom_classes": [],
            "description": "",
            "_model_name": "HTMLModel",
            "placeholder": "​",
            "_view_module": "@jupyter-widgets/controls",
            "_model_module_version": "1.5.0",
            "value": "100%",
            "_view_count": null,
            "_view_module_version": "1.5.0",
            "description_tooltip": null,
            "_model_module": "@jupyter-widgets/controls",
            "layout": "IPY_MODEL_3baebe01612d42eda0df89bd71188779"
          }
        },
        "311fb93d0cc64526a6aae8f6137a3ac8": {
          "model_module": "@jupyter-widgets/controls",
          "model_name": "FloatProgressModel",
          "model_module_version": "1.5.0",
          "state": {
            "_view_name": "ProgressView",
            "style": "IPY_MODEL_499353fa207e4be0bb208707d5888300",
            "_dom_classes": [],
            "description": "",
            "_model_name": "FloatProgressModel",
            "bar_style": "success",
            "max": 574673361,
            "_view_module": "@jupyter-widgets/controls",
            "_model_module_version": "1.5.0",
            "value": 574673361,
            "_view_count": null,
            "_view_module_version": "1.5.0",
            "orientation": "horizontal",
            "min": 0,
            "description_tooltip": null,
            "_model_module": "@jupyter-widgets/controls",
            "layout": "IPY_MODEL_db342e7c1e104c65a75a442b9fc0c4ff"
          }
        },
        "42813db37e2e4da7b4ce1c43bd8ac2c0": {
          "model_module": "@jupyter-widgets/controls",
          "model_name": "HTMLModel",
          "model_module_version": "1.5.0",
          "state": {
            "_view_name": "HTMLView",
            "style": "IPY_MODEL_3833f93e6cc9436d93f328681492d768",
            "_dom_classes": [],
            "description": "",
            "_model_name": "HTMLModel",
            "placeholder": "​",
            "_view_module": "@jupyter-widgets/controls",
            "_model_module_version": "1.5.0",
            "value": " 548M/548M [00:16&lt;00:00, 14.8MB/s]",
            "_view_count": null,
            "_view_module_version": "1.5.0",
            "description_tooltip": null,
            "_model_module": "@jupyter-widgets/controls",
            "layout": "IPY_MODEL_9cada6d36bd94d409baeef0ffd15be53"
          }
        },
        "307974e19bd94670829c7135358673b3": {
          "model_module": "@jupyter-widgets/controls",
          "model_name": "DescriptionStyleModel",
          "model_module_version": "1.5.0",
          "state": {
            "_view_name": "StyleView",
            "_model_name": "DescriptionStyleModel",
            "description_width": "",
            "_view_module": "@jupyter-widgets/base",
            "_model_module_version": "1.5.0",
            "_view_count": null,
            "_view_module_version": "1.2.0",
            "_model_module": "@jupyter-widgets/controls"
          }
        },
        "3baebe01612d42eda0df89bd71188779": {
          "model_module": "@jupyter-widgets/base",
          "model_name": "LayoutModel",
          "model_module_version": "1.2.0",
          "state": {
            "_view_name": "LayoutView",
            "grid_template_rows": null,
            "right": null,
            "justify_content": null,
            "_view_module": "@jupyter-widgets/base",
            "overflow": null,
            "_model_module_version": "1.2.0",
            "_view_count": null,
            "flex_flow": null,
            "width": null,
            "min_width": null,
            "border": null,
            "align_items": null,
            "bottom": null,
            "_model_module": "@jupyter-widgets/base",
            "top": null,
            "grid_column": null,
            "overflow_y": null,
            "overflow_x": null,
            "grid_auto_flow": null,
            "grid_area": null,
            "grid_template_columns": null,
            "flex": null,
            "_model_name": "LayoutModel",
            "justify_items": null,
            "grid_row": null,
            "max_height": null,
            "align_content": null,
            "visibility": null,
            "align_self": null,
            "height": null,
            "min_height": null,
            "padding": null,
            "grid_auto_rows": null,
            "grid_gap": null,
            "max_width": null,
            "order": null,
            "_view_module_version": "1.2.0",
            "grid_template_areas": null,
            "object_position": null,
            "object_fit": null,
            "grid_auto_columns": null,
            "margin": null,
            "display": null,
            "left": null
          }
        },
        "499353fa207e4be0bb208707d5888300": {
          "model_module": "@jupyter-widgets/controls",
          "model_name": "ProgressStyleModel",
          "model_module_version": "1.5.0",
          "state": {
            "_view_name": "StyleView",
            "_model_name": "ProgressStyleModel",
            "description_width": "",
            "_view_module": "@jupyter-widgets/base",
            "_model_module_version": "1.5.0",
            "_view_count": null,
            "_view_module_version": "1.2.0",
            "bar_color": null,
            "_model_module": "@jupyter-widgets/controls"
          }
        },
        "db342e7c1e104c65a75a442b9fc0c4ff": {
          "model_module": "@jupyter-widgets/base",
          "model_name": "LayoutModel",
          "model_module_version": "1.2.0",
          "state": {
            "_view_name": "LayoutView",
            "grid_template_rows": null,
            "right": null,
            "justify_content": null,
            "_view_module": "@jupyter-widgets/base",
            "overflow": null,
            "_model_module_version": "1.2.0",
            "_view_count": null,
            "flex_flow": null,
            "width": null,
            "min_width": null,
            "border": null,
            "align_items": null,
            "bottom": null,
            "_model_module": "@jupyter-widgets/base",
            "top": null,
            "grid_column": null,
            "overflow_y": null,
            "overflow_x": null,
            "grid_auto_flow": null,
            "grid_area": null,
            "grid_template_columns": null,
            "flex": null,
            "_model_name": "LayoutModel",
            "justify_items": null,
            "grid_row": null,
            "max_height": null,
            "align_content": null,
            "visibility": null,
            "align_self": null,
            "height": null,
            "min_height": null,
            "padding": null,
            "grid_auto_rows": null,
            "grid_gap": null,
            "max_width": null,
            "order": null,
            "_view_module_version": "1.2.0",
            "grid_template_areas": null,
            "object_position": null,
            "object_fit": null,
            "grid_auto_columns": null,
            "margin": null,
            "display": null,
            "left": null
          }
        },
        "3833f93e6cc9436d93f328681492d768": {
          "model_module": "@jupyter-widgets/controls",
          "model_name": "DescriptionStyleModel",
          "model_module_version": "1.5.0",
          "state": {
            "_view_name": "StyleView",
            "_model_name": "DescriptionStyleModel",
            "description_width": "",
            "_view_module": "@jupyter-widgets/base",
            "_model_module_version": "1.5.0",
            "_view_count": null,
            "_view_module_version": "1.2.0",
            "_model_module": "@jupyter-widgets/controls"
          }
        },
        "9cada6d36bd94d409baeef0ffd15be53": {
          "model_module": "@jupyter-widgets/base",
          "model_name": "LayoutModel",
          "model_module_version": "1.2.0",
          "state": {
            "_view_name": "LayoutView",
            "grid_template_rows": null,
            "right": null,
            "justify_content": null,
            "_view_module": "@jupyter-widgets/base",
            "overflow": null,
            "_model_module_version": "1.2.0",
            "_view_count": null,
            "flex_flow": null,
            "width": null,
            "min_width": null,
            "border": null,
            "align_items": null,
            "bottom": null,
            "_model_module": "@jupyter-widgets/base",
            "top": null,
            "grid_column": null,
            "overflow_y": null,
            "overflow_x": null,
            "grid_auto_flow": null,
            "grid_area": null,
            "grid_template_columns": null,
            "flex": null,
            "_model_name": "LayoutModel",
            "justify_items": null,
            "grid_row": null,
            "max_height": null,
            "align_content": null,
            "visibility": null,
            "align_self": null,
            "height": null,
            "min_height": null,
            "padding": null,
            "grid_auto_rows": null,
            "grid_gap": null,
            "max_width": null,
            "order": null,
            "_view_module_version": "1.2.0",
            "grid_template_areas": null,
            "object_position": null,
            "object_fit": null,
            "grid_auto_columns": null,
            "margin": null,
            "display": null,
            "left": null
          }
        }
      }
    }
  },
  "cells": [
    {
      "cell_type": "markdown",
      "metadata": {
        "id": "view-in-github",
        "colab_type": "text"
      },
      "source": [
        "<a href=\"https://colab.research.google.com/github/umbertogagl97/LivDet_art/blob/main/examples/Attacco_scanner.ipynb\" target=\"_parent\"><img src=\"https://colab.research.google.com/assets/colab-badge.svg\" alt=\"Open In Colab\"/></a>"
      ]
    },
    {
      "cell_type": "markdown",
      "metadata": {
        "id": "lcoLiAGAtqBh"
      },
      "source": [
        "# **Init**"
      ]
    },
    {
      "cell_type": "markdown",
      "metadata": {
        "id": "OHENSlCXxzcr"
      },
      "source": [
        "##Import ART"
      ]
    },
    {
      "cell_type": "code",
      "metadata": {
        "id": "hIKN5Oqa-i6u",
        "colab": {
          "base_uri": "https://localhost:8080/"
        },
        "outputId": "0b9e60c1-8ebb-41a5-d10d-a9ee165c7c99"
      },
      "source": [
        "#importa ART\n",
        "!pip install adversarial-robustness-toolbox"
      ],
      "execution_count": 1,
      "outputs": [
        {
          "output_type": "stream",
          "name": "stdout",
          "text": [
            "Collecting adversarial-robustness-toolbox\n",
            "  Downloading adversarial_robustness_toolbox-1.8.1-py3-none-any.whl (1.1 MB)\n",
            "\u001b[?25l\r\u001b[K     |▎                               | 10 kB 36.7 MB/s eta 0:00:01\r\u001b[K     |▋                               | 20 kB 38.2 MB/s eta 0:00:01\r\u001b[K     |█                               | 30 kB 19.5 MB/s eta 0:00:01\r\u001b[K     |█▏                              | 40 kB 14.5 MB/s eta 0:00:01\r\u001b[K     |█▌                              | 51 kB 8.6 MB/s eta 0:00:01\r\u001b[K     |█▉                              | 61 kB 9.1 MB/s eta 0:00:01\r\u001b[K     |██                              | 71 kB 8.8 MB/s eta 0:00:01\r\u001b[K     |██▍                             | 81 kB 9.9 MB/s eta 0:00:01\r\u001b[K     |██▊                             | 92 kB 7.5 MB/s eta 0:00:01\r\u001b[K     |███                             | 102 kB 8.2 MB/s eta 0:00:01\r\u001b[K     |███▎                            | 112 kB 8.2 MB/s eta 0:00:01\r\u001b[K     |███▋                            | 122 kB 8.2 MB/s eta 0:00:01\r\u001b[K     |███▉                            | 133 kB 8.2 MB/s eta 0:00:01\r\u001b[K     |████▏                           | 143 kB 8.2 MB/s eta 0:00:01\r\u001b[K     |████▌                           | 153 kB 8.2 MB/s eta 0:00:01\r\u001b[K     |████▊                           | 163 kB 8.2 MB/s eta 0:00:01\r\u001b[K     |█████                           | 174 kB 8.2 MB/s eta 0:00:01\r\u001b[K     |█████▍                          | 184 kB 8.2 MB/s eta 0:00:01\r\u001b[K     |█████▋                          | 194 kB 8.2 MB/s eta 0:00:01\r\u001b[K     |██████                          | 204 kB 8.2 MB/s eta 0:00:01\r\u001b[K     |██████▎                         | 215 kB 8.2 MB/s eta 0:00:01\r\u001b[K     |██████▌                         | 225 kB 8.2 MB/s eta 0:00:01\r\u001b[K     |██████▉                         | 235 kB 8.2 MB/s eta 0:00:01\r\u001b[K     |███████▏                        | 245 kB 8.2 MB/s eta 0:00:01\r\u001b[K     |███████▍                        | 256 kB 8.2 MB/s eta 0:00:01\r\u001b[K     |███████▊                        | 266 kB 8.2 MB/s eta 0:00:01\r\u001b[K     |████████                        | 276 kB 8.2 MB/s eta 0:00:01\r\u001b[K     |████████▎                       | 286 kB 8.2 MB/s eta 0:00:01\r\u001b[K     |████████▋                       | 296 kB 8.2 MB/s eta 0:00:01\r\u001b[K     |█████████                       | 307 kB 8.2 MB/s eta 0:00:01\r\u001b[K     |█████████▏                      | 317 kB 8.2 MB/s eta 0:00:01\r\u001b[K     |█████████▌                      | 327 kB 8.2 MB/s eta 0:00:01\r\u001b[K     |█████████▉                      | 337 kB 8.2 MB/s eta 0:00:01\r\u001b[K     |██████████                      | 348 kB 8.2 MB/s eta 0:00:01\r\u001b[K     |██████████▍                     | 358 kB 8.2 MB/s eta 0:00:01\r\u001b[K     |██████████▊                     | 368 kB 8.2 MB/s eta 0:00:01\r\u001b[K     |███████████                     | 378 kB 8.2 MB/s eta 0:00:01\r\u001b[K     |███████████▎                    | 389 kB 8.2 MB/s eta 0:00:01\r\u001b[K     |███████████▋                    | 399 kB 8.2 MB/s eta 0:00:01\r\u001b[K     |███████████▉                    | 409 kB 8.2 MB/s eta 0:00:01\r\u001b[K     |████████████▏                   | 419 kB 8.2 MB/s eta 0:00:01\r\u001b[K     |████████████▌                   | 430 kB 8.2 MB/s eta 0:00:01\r\u001b[K     |████████████▊                   | 440 kB 8.2 MB/s eta 0:00:01\r\u001b[K     |█████████████                   | 450 kB 8.2 MB/s eta 0:00:01\r\u001b[K     |█████████████▍                  | 460 kB 8.2 MB/s eta 0:00:01\r\u001b[K     |█████████████▋                  | 471 kB 8.2 MB/s eta 0:00:01\r\u001b[K     |██████████████                  | 481 kB 8.2 MB/s eta 0:00:01\r\u001b[K     |██████████████▎                 | 491 kB 8.2 MB/s eta 0:00:01\r\u001b[K     |██████████████▌                 | 501 kB 8.2 MB/s eta 0:00:01\r\u001b[K     |██████████████▉                 | 512 kB 8.2 MB/s eta 0:00:01\r\u001b[K     |███████████████▏                | 522 kB 8.2 MB/s eta 0:00:01\r\u001b[K     |███████████████▍                | 532 kB 8.2 MB/s eta 0:00:01\r\u001b[K     |███████████████▊                | 542 kB 8.2 MB/s eta 0:00:01\r\u001b[K     |████████████████                | 552 kB 8.2 MB/s eta 0:00:01\r\u001b[K     |████████████████▎               | 563 kB 8.2 MB/s eta 0:00:01\r\u001b[K     |████████████████▋               | 573 kB 8.2 MB/s eta 0:00:01\r\u001b[K     |█████████████████               | 583 kB 8.2 MB/s eta 0:00:01\r\u001b[K     |█████████████████▏              | 593 kB 8.2 MB/s eta 0:00:01\r\u001b[K     |█████████████████▌              | 604 kB 8.2 MB/s eta 0:00:01\r\u001b[K     |█████████████████▉              | 614 kB 8.2 MB/s eta 0:00:01\r\u001b[K     |██████████████████              | 624 kB 8.2 MB/s eta 0:00:01\r\u001b[K     |██████████████████▍             | 634 kB 8.2 MB/s eta 0:00:01\r\u001b[K     |██████████████████▊             | 645 kB 8.2 MB/s eta 0:00:01\r\u001b[K     |███████████████████             | 655 kB 8.2 MB/s eta 0:00:01\r\u001b[K     |███████████████████▎            | 665 kB 8.2 MB/s eta 0:00:01\r\u001b[K     |███████████████████▋            | 675 kB 8.2 MB/s eta 0:00:01\r\u001b[K     |███████████████████▉            | 686 kB 8.2 MB/s eta 0:00:01\r\u001b[K     |████████████████████▏           | 696 kB 8.2 MB/s eta 0:00:01\r\u001b[K     |████████████████████▌           | 706 kB 8.2 MB/s eta 0:00:01\r\u001b[K     |████████████████████▊           | 716 kB 8.2 MB/s eta 0:00:01\r\u001b[K     |█████████████████████           | 727 kB 8.2 MB/s eta 0:00:01\r\u001b[K     |█████████████████████▍          | 737 kB 8.2 MB/s eta 0:00:01\r\u001b[K     |█████████████████████▋          | 747 kB 8.2 MB/s eta 0:00:01\r\u001b[K     |██████████████████████          | 757 kB 8.2 MB/s eta 0:00:01\r\u001b[K     |██████████████████████▎         | 768 kB 8.2 MB/s eta 0:00:01\r\u001b[K     |██████████████████████▌         | 778 kB 8.2 MB/s eta 0:00:01\r\u001b[K     |██████████████████████▉         | 788 kB 8.2 MB/s eta 0:00:01\r\u001b[K     |███████████████████████▏        | 798 kB 8.2 MB/s eta 0:00:01\r\u001b[K     |███████████████████████▍        | 808 kB 8.2 MB/s eta 0:00:01\r\u001b[K     |███████████████████████▊        | 819 kB 8.2 MB/s eta 0:00:01\r\u001b[K     |████████████████████████        | 829 kB 8.2 MB/s eta 0:00:01\r\u001b[K     |████████████████████████▎       | 839 kB 8.2 MB/s eta 0:00:01\r\u001b[K     |████████████████████████▋       | 849 kB 8.2 MB/s eta 0:00:01\r\u001b[K     |█████████████████████████       | 860 kB 8.2 MB/s eta 0:00:01\r\u001b[K     |█████████████████████████▏      | 870 kB 8.2 MB/s eta 0:00:01\r\u001b[K     |█████████████████████████▌      | 880 kB 8.2 MB/s eta 0:00:01\r\u001b[K     |█████████████████████████▉      | 890 kB 8.2 MB/s eta 0:00:01\r\u001b[K     |██████████████████████████      | 901 kB 8.2 MB/s eta 0:00:01\r\u001b[K     |██████████████████████████▍     | 911 kB 8.2 MB/s eta 0:00:01\r\u001b[K     |██████████████████████████▊     | 921 kB 8.2 MB/s eta 0:00:01\r\u001b[K     |███████████████████████████     | 931 kB 8.2 MB/s eta 0:00:01\r\u001b[K     |███████████████████████████▎    | 942 kB 8.2 MB/s eta 0:00:01\r\u001b[K     |███████████████████████████▋    | 952 kB 8.2 MB/s eta 0:00:01\r\u001b[K     |████████████████████████████    | 962 kB 8.2 MB/s eta 0:00:01\r\u001b[K     |████████████████████████████▏   | 972 kB 8.2 MB/s eta 0:00:01\r\u001b[K     |████████████████████████████▌   | 983 kB 8.2 MB/s eta 0:00:01\r\u001b[K     |████████████████████████████▉   | 993 kB 8.2 MB/s eta 0:00:01\r\u001b[K     |█████████████████████████████   | 1.0 MB 8.2 MB/s eta 0:00:01\r\u001b[K     |█████████████████████████████▍  | 1.0 MB 8.2 MB/s eta 0:00:01\r\u001b[K     |█████████████████████████████▊  | 1.0 MB 8.2 MB/s eta 0:00:01\r\u001b[K     |██████████████████████████████  | 1.0 MB 8.2 MB/s eta 0:00:01\r\u001b[K     |██████████████████████████████▎ | 1.0 MB 8.2 MB/s eta 0:00:01\r\u001b[K     |██████████████████████████████▋ | 1.1 MB 8.2 MB/s eta 0:00:01\r\u001b[K     |██████████████████████████████▉ | 1.1 MB 8.2 MB/s eta 0:00:01\r\u001b[K     |███████████████████████████████▏| 1.1 MB 8.2 MB/s eta 0:00:01\r\u001b[K     |███████████████████████████████▌| 1.1 MB 8.2 MB/s eta 0:00:01\r\u001b[K     |███████████████████████████████▊| 1.1 MB 8.2 MB/s eta 0:00:01\r\u001b[K     |████████████████████████████████| 1.1 MB 8.2 MB/s \n",
            "\u001b[?25hRequirement already satisfied: setuptools in /usr/local/lib/python3.7/dist-packages (from adversarial-robustness-toolbox) (57.4.0)\n",
            "Requirement already satisfied: scipy>=1.4.1 in /usr/local/lib/python3.7/dist-packages (from adversarial-robustness-toolbox) (1.4.1)\n",
            "Requirement already satisfied: numpy>=1.18.0 in /usr/local/lib/python3.7/dist-packages (from adversarial-robustness-toolbox) (1.19.5)\n",
            "Collecting numba>=0.53.1\n",
            "  Downloading numba-0.54.1-cp37-cp37m-manylinux2014_x86_64.manylinux_2_17_x86_64.whl (3.3 MB)\n",
            "\u001b[K     |████████████████████████████████| 3.3 MB 46.1 MB/s \n",
            "\u001b[?25hRequirement already satisfied: tqdm in /usr/local/lib/python3.7/dist-packages (from adversarial-robustness-toolbox) (4.62.3)\n",
            "Requirement already satisfied: scikit-learn<1.1.0,>=0.22.2 in /usr/local/lib/python3.7/dist-packages (from adversarial-robustness-toolbox) (0.22.2.post1)\n",
            "Requirement already satisfied: six in /usr/local/lib/python3.7/dist-packages (from adversarial-robustness-toolbox) (1.15.0)\n",
            "Collecting llvmlite<0.38,>=0.37.0rc1\n",
            "  Downloading llvmlite-0.37.0-cp37-cp37m-manylinux2014_x86_64.whl (26.3 MB)\n",
            "\u001b[K     |████████████████████████████████| 26.3 MB 1.2 MB/s \n",
            "\u001b[?25hRequirement already satisfied: joblib>=0.11 in /usr/local/lib/python3.7/dist-packages (from scikit-learn<1.1.0,>=0.22.2->adversarial-robustness-toolbox) (1.1.0)\n",
            "Installing collected packages: llvmlite, numba, adversarial-robustness-toolbox\n",
            "  Attempting uninstall: llvmlite\n",
            "    Found existing installation: llvmlite 0.34.0\n",
            "    Uninstalling llvmlite-0.34.0:\n",
            "      Successfully uninstalled llvmlite-0.34.0\n",
            "  Attempting uninstall: numba\n",
            "    Found existing installation: numba 0.51.2\n",
            "    Uninstalling numba-0.51.2:\n",
            "      Successfully uninstalled numba-0.51.2\n",
            "Successfully installed adversarial-robustness-toolbox-1.8.1 llvmlite-0.37.0 numba-0.54.1\n"
          ]
        }
      ]
    },
    {
      "cell_type": "markdown",
      "metadata": {
        "id": "agpRyI8Q_QHG"
      },
      "source": [
        "##Import librerie"
      ]
    },
    {
      "cell_type": "code",
      "metadata": {
        "id": "3DUPlM5p_Rw0"
      },
      "source": [
        "import torch\n",
        "import numpy as np\n",
        "import torch.optim as optim\n",
        "import torchvision\n",
        "from torchvision import datasets, models, transforms"
      ],
      "execution_count": 2,
      "outputs": []
    },
    {
      "cell_type": "markdown",
      "metadata": {
        "id": "R6Yh7a-qXoJC"
      },
      "source": [
        "##Import LDART"
      ]
    },
    {
      "cell_type": "code",
      "metadata": {
        "colab": {
          "base_uri": "https://localhost:8080/"
        },
        "id": "k6YHGRS9Xp6B",
        "outputId": "5c001c8b-383f-4b9c-c849-45dbda98c049"
      },
      "source": [
        "!pip install git+https://github.com/umbertogagl97/LivDet_art.git"
      ],
      "execution_count": 3,
      "outputs": [
        {
          "output_type": "stream",
          "name": "stdout",
          "text": [
            "Collecting git+https://github.com/umbertogagl97/LivDet_art.git\n",
            "  Cloning https://github.com/umbertogagl97/LivDet_art.git to /tmp/pip-req-build-gohxvw3n\n",
            "  Running command git clone -q https://github.com/umbertogagl97/LivDet_art.git /tmp/pip-req-build-gohxvw3n\n",
            "Requirement already satisfied: numpy>=1.8 in /usr/local/lib/python3.7/dist-packages (from LivDet-ART==0.0.1) (1.19.5)\n",
            "Building wheels for collected packages: LivDet-ART\n",
            "  Building wheel for LivDet-ART (setup.py) ... \u001b[?25l\u001b[?25hdone\n",
            "  Created wheel for LivDet-ART: filename=LivDet_ART-0.0.1-py3-none-any.whl size=19087 sha256=951b64107ec333e4b071e7bf4cb804b054260d03367bd3c6373a7ca7478b3cf3\n",
            "  Stored in directory: /tmp/pip-ephem-wheel-cache-2nukglb9/wheels/00/53/f6/1a9221b6c8999525e0a7ad4416ed7ce2ed105427f3bfb7b2d4\n",
            "Successfully built LivDet-ART\n",
            "Installing collected packages: LivDet-ART\n",
            "Successfully installed LivDet-ART-0.0.1\n"
          ]
        }
      ]
    },
    {
      "cell_type": "code",
      "metadata": {
        "id": "AhRccc6mZE5I"
      },
      "source": [
        "from ldart.utils import *"
      ],
      "execution_count": 4,
      "outputs": []
    },
    {
      "cell_type": "markdown",
      "metadata": {
        "id": "pIqUXUmoA541"
      },
      "source": [
        "##Check device\n"
      ]
    },
    {
      "cell_type": "code",
      "metadata": {
        "id": "P2pe5Zh2A4Ui",
        "colab": {
          "base_uri": "https://localhost:8080/"
        },
        "outputId": "6fd42911-8503-467d-d656-95539282d6ca"
      },
      "source": [
        "print(torch.__version__)\n",
        "print(torch.cuda.is_available())\n",
        "print(torch.cuda.get_device_name(0))\n",
        "device = torch.device(\"cuda:0\" if torch.cuda.is_available() else \"cpu\")\n",
        "print(device)"
      ],
      "execution_count": 5,
      "outputs": [
        {
          "output_type": "stream",
          "name": "stdout",
          "text": [
            "1.10.0+cu111\n",
            "True\n",
            "Tesla P100-PCIE-16GB\n",
            "cuda:0\n"
          ]
        }
      ]
    },
    {
      "cell_type": "markdown",
      "metadata": {
        "id": "-ycpjmyb4Cxe"
      },
      "source": [
        "##Def path"
      ]
    },
    {
      "cell_type": "code",
      "metadata": {
        "id": "4hMuySVI4GgY"
      },
      "source": [
        "#scanner\n",
        "scanner_name = 'GreenBit'\n",
        "\n",
        "#load modello\n",
        "path_model = F\"/content/gdrive/My Drive/Scanner/{scanner_name}\" \n",
        "\n",
        "#dataset\n",
        "pathTestset=F'/content/gdrive/MyDrive/Dataset_impronte/test/{scanner_name}'\n",
        "\n",
        "#predizioni testset originale\n",
        "pd_preds=F'/content/gdrive/MyDrive/Dataset_impronte/test/Preds_value/{scanner_name}_con_normalize.xlsx'"
      ],
      "execution_count": 6,
      "outputs": []
    },
    {
      "cell_type": "markdown",
      "metadata": {
        "id": "dherpFOH0Uau"
      },
      "source": [
        "##Collegamento google drive"
      ]
    },
    {
      "cell_type": "code",
      "metadata": {
        "id": "vyvTOQw-aHRP",
        "colab": {
          "base_uri": "https://localhost:8080/"
        },
        "outputId": "5c2e64e6-40fe-4f65-c720-fa3c1fe9b2a2"
      },
      "source": [
        "#collegamento google drive\n",
        "from google.colab import drive\n",
        "drive.mount('/content/gdrive')"
      ],
      "execution_count": 7,
      "outputs": [
        {
          "output_type": "stream",
          "name": "stdout",
          "text": [
            "Mounted at /content/gdrive\n"
          ]
        }
      ]
    },
    {
      "cell_type": "markdown",
      "metadata": {
        "id": "5X10jetEyAax"
      },
      "source": [
        "#**Dataset**"
      ]
    },
    {
      "cell_type": "markdown",
      "metadata": {
        "id": "fETy1V2abbWo"
      },
      "source": [
        "##Caricamento dataset"
      ]
    },
    {
      "cell_type": "code",
      "metadata": {
        "id": "AMW6yAMPbbWp",
        "colab": {
          "base_uri": "https://localhost:8080/"
        },
        "outputId": "ff493140-c5af-47f4-c8e0-0bbf84177f56"
      },
      "source": [
        "test_dataset = datasets.ImageFolder(pathTestset,transform=transf_load)\n",
        "dim_set=len(test_dataset)\n",
        "print(dim_set)"
      ],
      "execution_count": 8,
      "outputs": [
        {
          "output_type": "stream",
          "name": "stdout",
          "text": [
            "2500\n"
          ]
        }
      ]
    },
    {
      "cell_type": "markdown",
      "metadata": {
        "id": "_miDmRukbbWq"
      },
      "source": [
        "##Dataloader"
      ]
    },
    {
      "cell_type": "code",
      "metadata": {
        "id": "o3JB4rWJbbWq"
      },
      "source": [
        "testgen=torch.utils.data.DataLoader(test_dataset, pin_memory=True, batch_size=1,num_workers=2)"
      ],
      "execution_count": 9,
      "outputs": []
    },
    {
      "cell_type": "markdown",
      "metadata": {
        "id": "ZazQQE8ypKP9"
      },
      "source": [
        "##Nomi classi"
      ]
    },
    {
      "cell_type": "code",
      "metadata": {
        "colab": {
          "base_uri": "https://localhost:8080/"
        },
        "id": "DYk4cr4eo9Ir",
        "outputId": "8571e447-6a83-4254-cf0d-492d2f0cdea8"
      },
      "source": [
        "classes_name=test_dataset.classes\n",
        "class_number=len(classes_name)\n",
        "print(classes_name)\n",
        "print(class_number)\n",
        "#del test_dataset"
      ],
      "execution_count": 10,
      "outputs": [
        {
          "output_type": "stream",
          "name": "stdout",
          "text": [
            "['Live', 'Spoof']\n",
            "2\n"
          ]
        }
      ]
    },
    {
      "cell_type": "markdown",
      "metadata": {
        "id": "vT9l9KWwv1uu"
      },
      "source": [
        "##Min Max dataset"
      ]
    },
    {
      "cell_type": "code",
      "metadata": {
        "id": "x9FPsg0aE6xI",
        "colab": {
          "base_uri": "https://localhost:8080/"
        },
        "outputId": "7a6dabbb-f5b3-4a46-8c0c-ff4f52dea882"
      },
      "source": [
        "a,_=next(iter(testgen))\n",
        "_min,_max=torch.min(a),torch.max(a)\n",
        "print(_min,_max)"
      ],
      "execution_count": 11,
      "outputs": [
        {
          "output_type": "stream",
          "name": "stdout",
          "text": [
            "tensor(0.0706) tensor(1.)\n"
          ]
        }
      ]
    },
    {
      "cell_type": "markdown",
      "metadata": {
        "id": "Rf57C8-hIBX8"
      },
      "source": [
        "##Transf_init"
      ]
    },
    {
      "cell_type": "code",
      "metadata": {
        "id": "bD-X0hMSHgVP"
      },
      "source": [
        "size_init=np.array(a.shape[2:4])\n",
        "transf_init=transforms.Resize(size=(size_init[0],size_init[1]),interpolation=InterpolationMode.NEAREST)"
      ],
      "execution_count": 12,
      "outputs": []
    },
    {
      "cell_type": "markdown",
      "metadata": {
        "id": "AJ_O-UAECNMk"
      },
      "source": [
        "#**Riduzione dataset**"
      ]
    },
    {
      "cell_type": "code",
      "metadata": {
        "id": "RnOEmgNRbbWp",
        "colab": {
          "base_uri": "https://localhost:8080/"
        },
        "outputId": "083f3662-e1b2-4925-95b1-90d8b34e3183"
      },
      "source": [
        "test_dataset.samples=test_dataset.samples[1000:]\n",
        "\n",
        "dim_set=len(test_dataset)\n",
        "print(dim_set)"
      ],
      "execution_count": 13,
      "outputs": [
        {
          "output_type": "stream",
          "name": "stdout",
          "text": [
            "1500\n"
          ]
        }
      ]
    },
    {
      "cell_type": "markdown",
      "metadata": {
        "id": "9XepXK-ny3XN"
      },
      "source": [
        "# **Creazione modello**\n",
        "\n",
        "> non ho bloccato i parametri inferiori e sbloccato quelli del classificatore, vedi se funziona\n",
        "\n"
      ]
    },
    {
      "cell_type": "markdown",
      "metadata": {
        "id": "PBSyijWDqY4-"
      },
      "source": [
        "##Load model pre-trained"
      ]
    },
    {
      "cell_type": "code",
      "metadata": {
        "id": "GymaBXhaPMvL",
        "colab": {
          "base_uri": "https://localhost:8080/",
          "height": 0,
          "referenced_widgets": [
            "5bec0dab70a5475a825f0b9a7d56ac9b",
            "9ddef2133a8a4b5babb512daab252456",
            "2c049383acd844ff96b82dd1bfc8711a",
            "311fb93d0cc64526a6aae8f6137a3ac8",
            "42813db37e2e4da7b4ce1c43bd8ac2c0",
            "307974e19bd94670829c7135358673b3",
            "3baebe01612d42eda0df89bd71188779",
            "499353fa207e4be0bb208707d5888300",
            "db342e7c1e104c65a75a442b9fc0c4ff",
            "3833f93e6cc9436d93f328681492d768",
            "9cada6d36bd94d409baeef0ffd15be53"
          ]
        },
        "outputId": "7e437823-c39e-46f6-bc74-8415fd4a8e54"
      },
      "source": [
        "model = models.vgg19(pretrained=True,progress=True)\n",
        "#model = models.densenet201(pretrained=True,progress=True)\n",
        "#print(model)"
      ],
      "execution_count": 14,
      "outputs": [
        {
          "output_type": "stream",
          "name": "stderr",
          "text": [
            "Downloading: \"https://download.pytorch.org/models/vgg19-dcbb9e9d.pth\" to /root/.cache/torch/hub/checkpoints/vgg19-dcbb9e9d.pth\n"
          ]
        },
        {
          "output_type": "display_data",
          "data": {
            "application/vnd.jupyter.widget-view+json": {
              "model_id": "5bec0dab70a5475a825f0b9a7d56ac9b",
              "version_minor": 0,
              "version_major": 2
            },
            "text/plain": [
              "  0%|          | 0.00/548M [00:00<?, ?B/s]"
            ]
          },
          "metadata": {}
        }
      ]
    },
    {
      "cell_type": "markdown",
      "metadata": {
        "id": "O_c2L3v0r2xG"
      },
      "source": [
        "##Aggiunta classificatore"
      ]
    },
    {
      "cell_type": "code",
      "metadata": {
        "id": "d1qeI3_3qKJJ"
      },
      "source": [
        "model.classifier[6]=nn.Linear(4096,2) #per vgg19\n",
        "#model.classifier=nn.Linear(1920,2) #per densenet201\n",
        "\n",
        "#print(model) "
      ],
      "execution_count": 15,
      "outputs": []
    },
    {
      "cell_type": "markdown",
      "metadata": {
        "id": "HOHqOuTVAMaz"
      },
      "source": [
        "##Load pesi"
      ]
    },
    {
      "cell_type": "code",
      "metadata": {
        "id": "CEXv4tQ3AOi0",
        "colab": {
          "base_uri": "https://localhost:8080/"
        },
        "outputId": "3cbbc4f8-f810-4c31-e677-8c7fa8c873b9"
      },
      "source": [
        "model.load_state_dict(torch.load(path_model))#,map_location=torch.device('cpu')))\n"
      ],
      "execution_count": 16,
      "outputs": [
        {
          "output_type": "execute_result",
          "data": {
            "text/plain": [
              "<All keys matched successfully>"
            ]
          },
          "metadata": {},
          "execution_count": 16
        }
      ]
    },
    {
      "cell_type": "markdown",
      "metadata": {
        "id": "O2z5CDqCOjhi"
      },
      "source": [
        "# **Esecuzione**"
      ]
    },
    {
      "cell_type": "markdown",
      "metadata": {
        "id": "OzZkC7HimlHT"
      },
      "source": [
        "##Creazione classificatore ART Pytorch\n",
        "\n"
      ]
    },
    {
      "cell_type": "code",
      "metadata": {
        "id": "AZL7c94zmlHU"
      },
      "source": [
        "from art.estimators.classification import PyTorchClassifier\n",
        "\n",
        "classifier = PyTorchClassifier(\n",
        "    model=model,\n",
        "    clip_values=(_min,_max),\n",
        "    loss=nn.CrossEntropyLoss(),\n",
        "    optimizer=optim.Adam(model.classifier.parameters(),lr=1e-5),\n",
        "    input_shape=(224, 224, 3),\n",
        "    nb_classes=class_number\n",
        ")"
      ],
      "execution_count": 17,
      "outputs": []
    },
    {
      "cell_type": "markdown",
      "metadata": {
        "id": "m10EkCq5GeEu"
      },
      "source": [
        "##Attacco"
      ]
    },
    {
      "cell_type": "code",
      "metadata": {
        "colab": {
          "base_uri": "https://localhost:8080/",
          "height": 622
        },
        "id": "2yk7RwELGfM4",
        "outputId": "728979b1-a6a7-409e-98a6-ee5b2b2f0ecc"
      },
      "source": [
        "from ldart.attacks.IFGM import IterativeFastGradientMethod\n",
        "from art.utils import to_categorical\n",
        "from PIL import Image, ImageFile\n",
        "ImageFile.LOAD_TRUNCATED_IMAGES = True\n",
        "import random\n",
        "\n",
        "# FGM\n",
        "attack = IterativeFastGradientMethod(estimator=classifier, eps=1000,eps_step=0.001,class_target=classes_name.index('Live'),max_iter=100,confidence=0.7)\n",
        "\n",
        "list_print=sorted(random.sample(range(dim_set),1))\n",
        "\n",
        "x_print=[]\n",
        "y_print=[]\n",
        "x_print_adv=[] \n",
        "y_print_adv=[] \n",
        "perturb_print=[]\n",
        "Test_p = pd.DataFrame()\n",
        "model.eval()\n",
        "model.cuda()\n",
        "\n",
        "i=0\n",
        "for input,label in testgen:\n",
        "  i+=1\n",
        "\n",
        "  sys.stdout.write(\"\\rElem: {0}/{1}\".format(i,len(testgen)))\n",
        "  sys.stdout.flush()\n",
        "\n",
        "  y_test=np.array((to_categorical(label.numpy(),2)))\n",
        "  x_test=np.array(input.numpy())\n",
        "  #cv2.imwrite(\"img_orig.png\",x_test[0].transpose(1,2,0)*255)\n",
        "\n",
        "  x_test_adv=attack.generate(x=x_test,y=y_test)\n",
        "  perturb=compute_perturb(x_test[0],x_test_adv[0])\n",
        "\n",
        "  #x_test_adv=x_test_adv[0,:,:,:]\n",
        "  #x_test_adv=(x_test_adv-np.min(x_test_adv))/(np.max(x_test_adv)-np.min(x_test_adv))\n",
        "  \n",
        "  x_test_adv=torch.Tensor(x_test_adv)\n",
        "  #x_test_adv=x_test_adv.unsqueeze_(0)\n",
        "  \n",
        "  if x_test_adv.shape[2]==224:\n",
        "    x_test_adv=transf_init(x_test_adv)\n",
        "\n",
        "  pred,probabilities,_=test_average(classifier,x_test_adv)\n",
        "  Test_p = Test_p.append({'real': classes_name[int(label)] ,\n",
        "                          'predicted': classes_name[pred], #qui metti pred\n",
        "                          'prob_live': round(probabilities[0],4),\n",
        "                          'prob_spoof': round(probabilities[1],4)},ignore_index = True)\n",
        "\n",
        "  #print\n",
        "  if i-1 in list_print:\n",
        "    x_print.append(x_test[0])\n",
        "    x_print_adv.append(x_test_adv[0].numpy())\n",
        "    y_print.append(y_test)\n",
        "    y_print_adv.append(probabilities)\n",
        "    perturb_print.append(perturb)\n",
        "\n",
        "x_print=np.array(x_print)\n",
        "y_print=np.array(y_print)\n",
        "x_print_adv=np.array(x_print_adv)\n",
        "y_print_adv=np.array(y_print_adv)\n",
        "perturb_print=np.array(perturb_print)"
      ],
      "execution_count": 18,
      "outputs": [
        {
          "output_type": "stream",
          "name": "stdout",
          "text": [
            "\rElem: 1/1500"
          ]
        },
        {
          "output_type": "error",
          "ename": "NameError",
          "evalue": "ignored",
          "traceback": [
            "\u001b[0;31m---------------------------------------------------------------------------\u001b[0m",
            "\u001b[0;31mNameError\u001b[0m                                 Traceback (most recent call last)",
            "\u001b[0;32m<ipython-input-18-92c291200ee7>\u001b[0m in \u001b[0;36m<module>\u001b[0;34m()\u001b[0m\n\u001b[1;32m     30\u001b[0m   \u001b[0;31m#cv2.imwrite(\"img_orig.png\",x_test[0].transpose(1,2,0)*255)\u001b[0m\u001b[0;34m\u001b[0m\u001b[0;34m\u001b[0m\u001b[0;34m\u001b[0m\u001b[0m\n\u001b[1;32m     31\u001b[0m \u001b[0;34m\u001b[0m\u001b[0m\n\u001b[0;32m---> 32\u001b[0;31m   \u001b[0mx_test_adv\u001b[0m\u001b[0;34m=\u001b[0m\u001b[0mattack\u001b[0m\u001b[0;34m.\u001b[0m\u001b[0mgenerate\u001b[0m\u001b[0;34m(\u001b[0m\u001b[0mx\u001b[0m\u001b[0;34m=\u001b[0m\u001b[0mx_test\u001b[0m\u001b[0;34m,\u001b[0m\u001b[0my\u001b[0m\u001b[0;34m=\u001b[0m\u001b[0my_test\u001b[0m\u001b[0;34m)\u001b[0m\u001b[0;34m\u001b[0m\u001b[0;34m\u001b[0m\u001b[0m\n\u001b[0m\u001b[1;32m     33\u001b[0m   \u001b[0mperturb\u001b[0m\u001b[0;34m=\u001b[0m\u001b[0mcompute_perturb\u001b[0m\u001b[0;34m(\u001b[0m\u001b[0mx_test\u001b[0m\u001b[0;34m[\u001b[0m\u001b[0;36m0\u001b[0m\u001b[0;34m]\u001b[0m\u001b[0;34m,\u001b[0m\u001b[0mx_test_adv\u001b[0m\u001b[0;34m[\u001b[0m\u001b[0;36m0\u001b[0m\u001b[0;34m]\u001b[0m\u001b[0;34m)\u001b[0m\u001b[0;34m\u001b[0m\u001b[0;34m\u001b[0m\u001b[0m\n\u001b[1;32m     34\u001b[0m \u001b[0;34m\u001b[0m\u001b[0m\n",
            "\u001b[0;32m/usr/local/lib/python3.7/dist-packages/ldart/attacks/IFGM.py\u001b[0m in \u001b[0;36mgenerate\u001b[0;34m(self, x, y, **kwargs)\u001b[0m\n\u001b[1;32m    167\u001b[0m \u001b[0;34m\u001b[0m\u001b[0m\n\u001b[1;32m    168\u001b[0m         \u001b[0;31m# Return adversarial examples computed with minimal perturbation if option is active\u001b[0m\u001b[0;34m\u001b[0m\u001b[0;34m\u001b[0m\u001b[0;34m\u001b[0m\u001b[0m\n\u001b[0;32m--> 169\u001b[0;31m         \u001b[0madv_x_best\u001b[0m \u001b[0;34m=\u001b[0m \u001b[0mself\u001b[0m\u001b[0;34m.\u001b[0m\u001b[0m_minimal_perturbation\u001b[0m\u001b[0;34m(\u001b[0m\u001b[0mx\u001b[0m\u001b[0;34m,\u001b[0m \u001b[0my\u001b[0m\u001b[0;34m)\u001b[0m\u001b[0;34m\u001b[0m\u001b[0;34m\u001b[0m\u001b[0m\n\u001b[0m\u001b[1;32m    170\u001b[0m \u001b[0;34m\u001b[0m\u001b[0m\n\u001b[1;32m    171\u001b[0m         \u001b[0;32mreturn\u001b[0m \u001b[0madv_x_best\u001b[0m\u001b[0;34m\u001b[0m\u001b[0;34m\u001b[0m\u001b[0m\n",
            "\u001b[0;32m/usr/local/lib/python3.7/dist-packages/ldart/attacks/IFGM.py\u001b[0m in \u001b[0;36m_minimal_perturbation\u001b[0;34m(self, x, y)\u001b[0m\n\u001b[1;32m    130\u001b[0m                 \u001b[0mcurrent_x\u001b[0m \u001b[0;34m=\u001b[0m \u001b[0mself\u001b[0m\u001b[0;34m.\u001b[0m\u001b[0m_apply_perturbation\u001b[0m\u001b[0;34m(\u001b[0m\u001b[0madv_x\u001b[0m\u001b[0;34m,\u001b[0m \u001b[0mperturbation\u001b[0m\u001b[0;34m,\u001b[0m \u001b[0mcurrent_eps\u001b[0m\u001b[0;34m)\u001b[0m\u001b[0;34m\u001b[0m\u001b[0;34m\u001b[0m\u001b[0m\n\u001b[1;32m    131\u001b[0m                 \u001b[0madv_x\u001b[0m \u001b[0;34m=\u001b[0m \u001b[0mcurrent_x\u001b[0m\u001b[0;34m\u001b[0m\u001b[0;34m\u001b[0m\u001b[0m\n\u001b[0;32m--> 132\u001b[0;31m                 \u001b[0mpred\u001b[0m\u001b[0;34m,\u001b[0m\u001b[0mvalues\u001b[0m\u001b[0;34m,\u001b[0m\u001b[0m_\u001b[0m\u001b[0;34m=\u001b[0m\u001b[0mtest_average\u001b[0m\u001b[0;34m(\u001b[0m\u001b[0mself\u001b[0m\u001b[0;34m.\u001b[0m\u001b[0mestimator\u001b[0m\u001b[0;34m,\u001b[0m\u001b[0mtorch\u001b[0m\u001b[0;34m.\u001b[0m\u001b[0mTensor\u001b[0m\u001b[0;34m(\u001b[0m\u001b[0madv_x\u001b[0m\u001b[0;34m)\u001b[0m\u001b[0;34m)\u001b[0m\u001b[0;34m\u001b[0m\u001b[0;34m\u001b[0m\u001b[0m\n\u001b[0m\u001b[1;32m    133\u001b[0m \u001b[0;34m\u001b[0m\u001b[0m\n\u001b[1;32m    134\u001b[0m                 \u001b[0;31m# If targeted active check to see whether we have hit the target, otherwise head to anything but\u001b[0m\u001b[0;34m\u001b[0m\u001b[0;34m\u001b[0m\u001b[0;34m\u001b[0m\u001b[0m\n",
            "\u001b[0;32m/usr/local/lib/python3.7/dist-packages/ldart/utils.py\u001b[0m in \u001b[0;36mtest_average\u001b[0;34m(classifier, input)\u001b[0m\n\u001b[1;32m    111\u001b[0m \u001b[0;34m\u001b[0m\u001b[0m\n\u001b[1;32m    112\u001b[0m   \u001b[0;32mif\u001b[0m \u001b[0minput\u001b[0m\u001b[0;34m.\u001b[0m\u001b[0mshape\u001b[0m\u001b[0;34m[\u001b[0m\u001b[0;36m2\u001b[0m\u001b[0;34m]\u001b[0m\u001b[0;34m==\u001b[0m\u001b[0;36m224\u001b[0m\u001b[0;34m:\u001b[0m\u001b[0;34m\u001b[0m\u001b[0;34m\u001b[0m\u001b[0m\n\u001b[0;32m--> 113\u001b[0;31m     \u001b[0minput\u001b[0m\u001b[0;34m=\u001b[0m\u001b[0mtransf_init\u001b[0m\u001b[0;34m(\u001b[0m\u001b[0minput\u001b[0m\u001b[0;34m)\u001b[0m\u001b[0;34m\u001b[0m\u001b[0;34m\u001b[0m\u001b[0m\n\u001b[0m\u001b[1;32m    114\u001b[0m \u001b[0;34m\u001b[0m\u001b[0m\n\u001b[1;32m    115\u001b[0m   \u001b[0mn\u001b[0m\u001b[0;34m=\u001b[0m\u001b[0minput\u001b[0m\u001b[0;34m.\u001b[0m\u001b[0mshape\u001b[0m\u001b[0;34m\u001b[0m\u001b[0;34m\u001b[0m\u001b[0m\n",
            "\u001b[0;31mNameError\u001b[0m: name 'transf_init' is not defined"
          ]
        }
      ]
    },
    {
      "cell_type": "markdown",
      "metadata": {
        "id": "ZFKEoI-enb8L"
      },
      "source": [
        "##Testing\n",
        "\n",
        "> Trasforma i due testing in una funzione e richiamala due volte\n",
        "\n"
      ]
    },
    {
      "cell_type": "markdown",
      "metadata": {
        "id": "1MmzfXhFt40W"
      },
      "source": [
        "###Print accuracy test orig from file & load pd"
      ]
    },
    {
      "cell_type": "code",
      "metadata": {
        "id": "DSOr1z85vhl7"
      },
      "source": [
        "Test_orig=pd.read_excel(pd_preds)\n",
        "print_acc(Test_orig) "
      ],
      "execution_count": null,
      "outputs": []
    },
    {
      "cell_type": "markdown",
      "metadata": {
        "id": "xRmjrhHYsVsN"
      },
      "source": [
        "###Testing immagini spoof predette live prima e dopo"
      ]
    },
    {
      "cell_type": "markdown",
      "metadata": {
        "id": "zGuElPEOW3dZ"
      },
      "source": [
        "####Accuracy adv"
      ]
    },
    {
      "cell_type": "code",
      "metadata": {
        "id": "Gp0jAIC-W5zC"
      },
      "source": [
        "print_acc(Test_p)"
      ],
      "execution_count": null,
      "outputs": []
    },
    {
      "cell_type": "markdown",
      "metadata": {
        "id": "uyLoc2K6V_ar"
      },
      "source": [
        "####Spoof"
      ]
    },
    {
      "cell_type": "markdown",
      "metadata": {
        "id": "J0SfSelFK2dl"
      },
      "source": [
        "prima"
      ]
    },
    {
      "cell_type": "code",
      "metadata": {
        "id": "DsNqIDAxsZBA"
      },
      "source": [
        "accuracy_class('Spoof',Test_orig)"
      ],
      "execution_count": null,
      "outputs": []
    },
    {
      "cell_type": "markdown",
      "metadata": {
        "id": "AciVwgFyK3Xc"
      },
      "source": [
        "dopo"
      ]
    },
    {
      "cell_type": "code",
      "metadata": {
        "id": "E2xU5gUQuy7y"
      },
      "source": [
        "accuracy_class('Spoof',Test_p)"
      ],
      "execution_count": null,
      "outputs": []
    },
    {
      "cell_type": "markdown",
      "metadata": {
        "id": "a4Q78IIqWCTI"
      },
      "source": [
        "####Live"
      ]
    },
    {
      "cell_type": "markdown",
      "metadata": {
        "id": "rtPKGqzEWCTI"
      },
      "source": [
        "prima"
      ]
    },
    {
      "cell_type": "code",
      "metadata": {
        "id": "AtB5Te35WCTJ"
      },
      "source": [
        "accuracy_class('Live',Test_orig)"
      ],
      "execution_count": null,
      "outputs": []
    },
    {
      "cell_type": "markdown",
      "metadata": {
        "id": "e3VNm1BCWCTJ"
      },
      "source": [
        "dopo"
      ]
    },
    {
      "cell_type": "code",
      "metadata": {
        "id": "ssG-LK1zWCTJ"
      },
      "source": [
        "accuracy_class('Live',Test_p)"
      ],
      "execution_count": null,
      "outputs": []
    },
    {
      "cell_type": "markdown",
      "metadata": {
        "id": "MMl35zPf3mlm"
      },
      "source": [
        "####numero img spoof predette live con prob >70%"
      ]
    },
    {
      "cell_type": "code",
      "metadata": {
        "id": "JSN-zFU23r6J"
      },
      "source": [
        "p=Test_p.loc[Test_p['real']=='Spoof']\n",
        "p=p.loc[p['predicted']=='Live']\n",
        "print(\"img spoof-live: \"+str(p.count(0)[0]))\n",
        "p=p.loc[p['prob_live']>=0.7]\n",
        "print(\"img con prob_live>70%: \"+str(p.count(0)[0]))"
      ],
      "execution_count": null,
      "outputs": []
    },
    {
      "cell_type": "markdown",
      "metadata": {
        "id": "ppH0s3Ov618F"
      },
      "source": [
        "##subplot"
      ]
    },
    {
      "cell_type": "markdown",
      "metadata": {
        "id": "Jr0m-v0meeS2"
      },
      "source": [
        "###test finale"
      ]
    },
    {
      "cell_type": "code",
      "metadata": {
        "id": "qSs9SSpU7xgV",
        "outputId": "3aaa8fa9-643e-4107-e72e-ed0ffa91ae46",
        "colab": {
          "base_uri": "https://localhost:8080/",
          "height": 454
        }
      },
      "source": [
        "#da usare nel test finale\n",
        "preds_orig=Test_orig[1000:].predicted.values[list_print]\n",
        "print(preds_orig)\n",
        "print_subplot(perturb_print,x_print,y_print,preds_orig,x_print_adv,y_print_adv)"
      ],
      "execution_count": 25,
      "outputs": [
        {
          "output_type": "stream",
          "name": "stdout",
          "text": [
            "['Spoof']\n",
            "\u001b[1mIMMAGINE \u001b[1m 0\n"
          ]
        },
        {
          "output_type": "display_data",
          "data": {
            "image/png": "[encoded data removed]",
            "text/plain": [
              "<Figure size 1440x1440 with 3 Axes>"
            ]
          },
          "metadata": {
            "needs_background": "light"
          }
        }
      ]
    },
    {
      "cell_type": "markdown",
      "metadata": {
        "id": "LGRODgf-egr4"
      },
      "source": [
        "###dataset ridotto"
      ]
    },
    {
      "cell_type": "code",
      "metadata": {
        "id": "YFV6X6RZ6ZA7"
      },
      "source": [
        "#da usare solo con dataset ridotto\n",
        "preds_orig=[]\n",
        "for input,_ in testgen:\n",
        "  preds_orig_i,_,_=test_average(classifier,input)\n",
        "  preds_orig.append(preds_orig_i)\n",
        "preds_orig=np.array(preds_orig)\n",
        "preds_orig=preds_orig[list_print]\n",
        "preds_orig=np.array([classes_name[i] for i in preds_orig])\n",
        "print_subplot(perturb_print,x_print,y_print,preds_orig,x_print_adv,y_print_adv)"
      ],
      "execution_count": null,
      "outputs": []
    },
    {
      "cell_type": "markdown",
      "metadata": {
        "id": "S-bsx7fXWquY"
      },
      "source": [
        "#salvataggio e lettura immagine"
      ]
    },
    {
      "cell_type": "code",
      "metadata": {
        "id": "fnV-dDcP3euu"
      },
      "source": [
        "save_read(x_print_adv[0],classifier)"
      ],
      "execution_count": null,
      "outputs": []
    }
  ]
}